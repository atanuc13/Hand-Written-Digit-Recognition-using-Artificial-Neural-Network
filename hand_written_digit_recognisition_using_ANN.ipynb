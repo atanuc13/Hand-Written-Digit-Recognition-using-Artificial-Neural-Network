{
  "cells": [
    {
      "cell_type": "code",
      "execution_count": 1,
      "metadata": {
        "colab": {
          "base_uri": "https://localhost:8080/"
        },
        "id": "kHI9RyyAk8wH",
        "outputId": "fa9c2311-300e-4c77-f7a1-300dc8107448"
      },
      "outputs": [
        {
          "output_type": "stream",
          "name": "stdout",
          "text": [
            "Downloading data from https://storage.googleapis.com/tensorflow/tf-keras-datasets/mnist.npz\n",
            "11490434/11490434 [==============================] - 1s 0us/step\n",
            "number of training samples=  60000\n",
            "number of testing samples=  10000\n"
          ]
        }
      ],
      "source": [
        "# importing MNIST hand-written digit image data set\n",
        "from keras.datasets import mnist\n",
        "\n",
        "(X_train, y_train), (X_test, y_test) = mnist.load_data()\n",
        "\n",
        "\n",
        "print(\"number of training samples= \", len(X_train))\n",
        "print(\"number of testing samples= \", len(y_test))\n",
        "\n",
        "#normalizing pixel values\n",
        "X_train = X_train / 255\n",
        "X_test = X_test / 255"
      ]
    },
    {
      "cell_type": "code",
      "execution_count": 2,
      "metadata": {
        "colab": {
          "base_uri": "https://localhost:8080/",
          "height": 268
        },
        "id": "PDovJMqbRf6A",
        "outputId": "b3fbcec3-5588-455a-d1e1-8ee38a572a21"
      },
      "outputs": [
        {
          "output_type": "display_data",
          "data": {
            "text/plain": [
              "<Figure size 432x288 with 9 Axes>"
            ],
            "image/png": "[encoded data removed]"
          },
          "metadata": {
            "needs_background": "light"
          }
        }
      ],
      "source": [
        "from matplotlib import pyplot as plt\n",
        "\n",
        "#sample images\n",
        "for i in range(0, 9):\n",
        "\tplt.subplot(330+1+i)\n",
        "\tplt.imshow(X_train[i],cmap='gray')\n",
        "plt.show()"
      ]
    },
    {
      "cell_type": "code",
      "execution_count": 3,
      "metadata": {
        "colab": {
          "base_uri": "https://localhost:8080/"
        },
        "id": "p1QhLg1cRST8",
        "outputId": "aeefe3c0-2048-41d5-95f7-0eddc815b3bf"
      },
      "outputs": [
        {
          "output_type": "stream",
          "name": "stdout",
          "text": [
            "(28, 28)\n",
            "(784,)\n"
          ]
        }
      ],
      "source": [
        "#flattening 28 x 28 input images to 784 x 1\n",
        "print(X_train[0].shape)\n",
        "X_trn = []\n",
        "for i in X_train:\n",
        "  X_trn.append(i.flatten())\n",
        "\n",
        "X_tst = []\n",
        "for i in X_test:\n",
        "  X_tst.append(i.flatten())\n",
        "\n",
        "print(X_trn[0].shape)"
      ]
    },
    {
      "cell_type": "code",
      "execution_count": 4,
      "metadata": {
        "colab": {
          "base_uri": "https://localhost:8080/"
        },
        "id": "dp5XDqxzRPOc",
        "outputId": "f72a122b-aca3-4486-e6f8-757971fef387"
      },
      "outputs": [
        {
          "output_type": "stream",
          "name": "stdout",
          "text": [
            "5\n",
            "[0. 0. 0. 0. 0. 1. 0. 0. 0. 0.]\n"
          ]
        }
      ],
      "source": [
        "from tensorflow.keras.utils import to_categorical\n",
        "\n",
        "#one hot encoding of output data\n",
        "print(y_train[0])\n",
        "train_labels = to_categorical(y_train)\n",
        "test_labels = to_categorical(y_test)\n",
        "print(train_labels[0])"
      ]
    },
    {
      "cell_type": "code",
      "execution_count": 5,
      "metadata": {
        "id": "-2NFp6feqOoc"
      },
      "outputs": [],
      "source": [
        "#intializing the model\n",
        "\n",
        "from keras import models\n",
        "from keras import layers\n",
        "\n",
        "network = models.Sequential()"
      ]
    },
    {
      "cell_type": "code",
      "execution_count": null,
      "metadata": {
        "id": "PQVEIYiZiJzR"
      },
      "outputs": [],
      "source": [
        "# simple single layer network with 10 neurons (Model 0 and Model 1)\n",
        "\n",
        "network.add(layers.Dense(10, activation='softmax', input_shape=(784,)))"
      ]
    },
    {
      "cell_type": "code",
      "execution_count": null,
      "metadata": {
        "id": "W8xg3xd60j9s"
      },
      "outputs": [],
      "source": [
        "# Network with 2 layers. (Model 2)\n",
        "\n",
        "network.add(layers.Dense(16, activation='relu', input_shape=(784,)))\n",
        "\n",
        "network.add(layers.Dense(10, activation='softmax'))"
      ]
    },
    {
      "cell_type": "code",
      "execution_count": 11,
      "metadata": {
        "id": "hpK-dWlmqKR8"
      },
      "outputs": [],
      "source": [
        "# Network with 2 layers. (Model 3)\n",
        "\n",
        "network.add(layers.Dense(16, activation='tanh', input_shape=(784,)))\n",
        "\n",
        "network.add(layers.Dense(10, activation='softmax'))"
      ]
    },
    {
      "cell_type": "code",
      "execution_count": null,
      "metadata": {
        "id": "Fg8xbINLOrZX"
      },
      "outputs": [],
      "source": [
        "# Network with 3 layers. (Model 4)\n",
        "\n",
        "network.add(layers.Dense(50, activation='relu', input_shape=(784,)))\n",
        "network.add(layers.Dense(100, activation='relu'))\n",
        "network.add(layers.Dense(10, activation='softmax'))\n"
      ]
    },
    {
      "cell_type": "code",
      "execution_count": 6,
      "metadata": {
        "id": "gE0-PivHifrm"
      },
      "outputs": [],
      "source": [
        "# Network with 3 layers. (Model 5)\n",
        "\n",
        "network.add(layers.Dense(50, activation='relu', input_shape=(784,)))\n",
        "network.add(layers.Dropout(0.25))\n",
        "network.add(layers.Dense(100, activation='relu'))\n",
        "network.add(layers.Dropout(0.35))\n",
        "network.add(layers.Dense(10, activation='softmax'))"
      ]
    },
    {
      "cell_type": "code",
      "execution_count": 7,
      "metadata": {
        "colab": {
          "base_uri": "https://localhost:8080/"
        },
        "id": "bhKdbfAvTz89",
        "outputId": "0bc11716-2c6c-4b92-fa90-1b66e96f8ac8"
      },
      "outputs": [
        {
          "output_type": "stream",
          "name": "stdout",
          "text": [
            "Model: \"sequential\"\n",
            "_________________________________________________________________\n",
            " Layer (type)                Output Shape              Param #   \n",
            "=================================================================\n",
            " dense (Dense)               (None, 50)                39250     \n",
            "                                                                 \n",
            " dropout (Dropout)           (None, 50)                0         \n",
            "                                                                 \n",
            " dense_1 (Dense)             (None, 100)               5100      \n",
            "                                                                 \n",
            " dropout_1 (Dropout)         (None, 100)               0         \n",
            "                                                                 \n",
            " dense_2 (Dense)             (None, 10)                1010      \n",
            "                                                                 \n",
            "=================================================================\n",
            "Total params: 45,360\n",
            "Trainable params: 45,360\n",
            "Non-trainable params: 0\n",
            "_________________________________________________________________\n"
          ]
        }
      ],
      "source": [
        "#to build the model and get the summary\n",
        "\n",
        "network.build()\n",
        "network.summary()"
      ]
    },
    {
      "cell_type": "code",
      "execution_count": 8,
      "metadata": {
        "colab": {
          "base_uri": "https://localhost:8080/"
        },
        "id": "h8MhH_HqPBUb",
        "outputId": "86bd2717-a1dd-461c-9849-9fbee96915ba"
      },
      "outputs": [
        {
          "output_type": "stream",
          "name": "stdout",
          "text": [
            "Epoch 1/100\n",
            "480/480 [==============================] - 4s 4ms/step - loss: 0.6484 - accuracy: 0.7992 - val_loss: 0.2314 - val_accuracy: 0.9313\n",
            "Epoch 2/100\n",
            "480/480 [==============================] - 2s 3ms/step - loss: 0.3303 - accuracy: 0.9034 - val_loss: 0.1846 - val_accuracy: 0.9437\n",
            "Epoch 3/100\n",
            "480/480 [==============================] - 2s 3ms/step - loss: 0.2674 - accuracy: 0.9214 - val_loss: 0.1582 - val_accuracy: 0.9530\n",
            "Epoch 4/100\n",
            "480/480 [==============================] - 2s 3ms/step - loss: 0.2379 - accuracy: 0.9281 - val_loss: 0.1427 - val_accuracy: 0.9579\n",
            "Epoch 5/100\n",
            "480/480 [==============================] - 2s 3ms/step - loss: 0.2170 - accuracy: 0.9359 - val_loss: 0.1356 - val_accuracy: 0.9602\n",
            "Epoch 6/100\n",
            "480/480 [==============================] - 2s 3ms/step - loss: 0.1985 - accuracy: 0.9397 - val_loss: 0.1338 - val_accuracy: 0.9604\n",
            "Epoch 7/100\n",
            "480/480 [==============================] - 2s 4ms/step - loss: 0.1847 - accuracy: 0.9439 - val_loss: 0.1247 - val_accuracy: 0.9626\n",
            "Epoch 8/100\n",
            "480/480 [==============================] - 2s 3ms/step - loss: 0.1789 - accuracy: 0.9450 - val_loss: 0.1259 - val_accuracy: 0.9626\n",
            "Epoch 9/100\n",
            "480/480 [==============================] - 2s 3ms/step - loss: 0.1665 - accuracy: 0.9495 - val_loss: 0.1182 - val_accuracy: 0.9652\n",
            "Epoch 10/100\n",
            "480/480 [==============================] - 2s 4ms/step - loss: 0.1611 - accuracy: 0.9502 - val_loss: 0.1166 - val_accuracy: 0.9657\n",
            "Epoch 11/100\n",
            "480/480 [==============================] - 2s 3ms/step - loss: 0.1597 - accuracy: 0.9507 - val_loss: 0.1114 - val_accuracy: 0.9653\n",
            "Epoch 12/100\n",
            "480/480 [==============================] - 2s 3ms/step - loss: 0.1501 - accuracy: 0.9536 - val_loss: 0.1099 - val_accuracy: 0.9674\n",
            "Epoch 13/100\n",
            "480/480 [==============================] - 2s 3ms/step - loss: 0.1461 - accuracy: 0.9541 - val_loss: 0.1081 - val_accuracy: 0.9671\n",
            "Epoch 14/100\n",
            "480/480 [==============================] - 2s 4ms/step - loss: 0.1402 - accuracy: 0.9561 - val_loss: 0.1102 - val_accuracy: 0.9689\n",
            "Epoch 15/100\n",
            "480/480 [==============================] - 2s 3ms/step - loss: 0.1346 - accuracy: 0.9593 - val_loss: 0.1040 - val_accuracy: 0.9696\n",
            "Epoch 16/100\n",
            "480/480 [==============================] - 2s 4ms/step - loss: 0.1368 - accuracy: 0.9570 - val_loss: 0.1074 - val_accuracy: 0.9680\n",
            "Epoch 17/100\n",
            "480/480 [==============================] - 2s 3ms/step - loss: 0.1326 - accuracy: 0.9586 - val_loss: 0.1071 - val_accuracy: 0.9699\n",
            "Epoch 18/100\n",
            "480/480 [==============================] - 2s 3ms/step - loss: 0.1283 - accuracy: 0.9600 - val_loss: 0.1093 - val_accuracy: 0.9680\n",
            "Epoch 19/100\n",
            "480/480 [==============================] - 2s 3ms/step - loss: 0.1269 - accuracy: 0.9607 - val_loss: 0.1029 - val_accuracy: 0.9718\n",
            "Epoch 20/100\n",
            "480/480 [==============================] - 2s 4ms/step - loss: 0.1262 - accuracy: 0.9607 - val_loss: 0.1080 - val_accuracy: 0.9698\n",
            "Epoch 21/100\n",
            "480/480 [==============================] - 2s 3ms/step - loss: 0.1243 - accuracy: 0.9604 - val_loss: 0.1047 - val_accuracy: 0.9700\n",
            "Epoch 22/100\n",
            "480/480 [==============================] - 2s 3ms/step - loss: 0.1184 - accuracy: 0.9627 - val_loss: 0.1088 - val_accuracy: 0.9690\n",
            "Epoch 23/100\n",
            "480/480 [==============================] - 2s 4ms/step - loss: 0.1175 - accuracy: 0.9619 - val_loss: 0.1062 - val_accuracy: 0.9702\n",
            "Epoch 24/100\n",
            "480/480 [==============================] - 2s 3ms/step - loss: 0.1160 - accuracy: 0.9630 - val_loss: 0.1044 - val_accuracy: 0.9707\n",
            "Epoch 25/100\n",
            "480/480 [==============================] - 2s 3ms/step - loss: 0.1136 - accuracy: 0.9637 - val_loss: 0.1062 - val_accuracy: 0.9703\n",
            "Epoch 26/100\n",
            "480/480 [==============================] - 2s 3ms/step - loss: 0.1111 - accuracy: 0.9658 - val_loss: 0.1056 - val_accuracy: 0.9724\n",
            "Epoch 27/100\n",
            "480/480 [==============================] - 2s 4ms/step - loss: 0.1133 - accuracy: 0.9647 - val_loss: 0.1049 - val_accuracy: 0.9713\n",
            "Epoch 28/100\n",
            "480/480 [==============================] - 2s 3ms/step - loss: 0.1105 - accuracy: 0.9656 - val_loss: 0.1022 - val_accuracy: 0.9721\n",
            "Epoch 29/100\n",
            "480/480 [==============================] - 2s 4ms/step - loss: 0.1081 - accuracy: 0.9659 - val_loss: 0.1056 - val_accuracy: 0.9703\n",
            "Epoch 30/100\n",
            "480/480 [==============================] - 2s 4ms/step - loss: 0.1061 - accuracy: 0.9664 - val_loss: 0.1073 - val_accuracy: 0.9713\n",
            "Epoch 31/100\n",
            "480/480 [==============================] - 2s 3ms/step - loss: 0.1050 - accuracy: 0.9670 - val_loss: 0.1076 - val_accuracy: 0.9712\n",
            "Epoch 32/100\n",
            "480/480 [==============================] - 2s 4ms/step - loss: 0.1030 - accuracy: 0.9673 - val_loss: 0.1042 - val_accuracy: 0.9713\n",
            "Epoch 33/100\n",
            "480/480 [==============================] - 2s 4ms/step - loss: 0.1007 - accuracy: 0.9677 - val_loss: 0.1069 - val_accuracy: 0.9714\n",
            "Epoch 34/100\n",
            "480/480 [==============================] - 2s 5ms/step - loss: 0.1024 - accuracy: 0.9676 - val_loss: 0.1047 - val_accuracy: 0.9723\n",
            "Epoch 35/100\n",
            "480/480 [==============================] - 2s 4ms/step - loss: 0.0957 - accuracy: 0.9701 - val_loss: 0.1097 - val_accuracy: 0.9711\n",
            "Epoch 36/100\n",
            "480/480 [==============================] - 2s 3ms/step - loss: 0.1004 - accuracy: 0.9685 - val_loss: 0.1040 - val_accuracy: 0.9723\n",
            "Epoch 37/100\n",
            "480/480 [==============================] - 2s 4ms/step - loss: 0.0997 - accuracy: 0.9678 - val_loss: 0.1055 - val_accuracy: 0.9706\n",
            "Epoch 38/100\n",
            "480/480 [==============================] - 2s 3ms/step - loss: 0.0928 - accuracy: 0.9710 - val_loss: 0.1073 - val_accuracy: 0.9715\n",
            "Epoch 39/100\n",
            "480/480 [==============================] - 2s 4ms/step - loss: 0.0973 - accuracy: 0.9693 - val_loss: 0.1106 - val_accuracy: 0.9703\n",
            "Epoch 40/100\n",
            "480/480 [==============================] - 2s 3ms/step - loss: 0.0959 - accuracy: 0.9690 - val_loss: 0.1090 - val_accuracy: 0.9697\n",
            "Epoch 41/100\n",
            "480/480 [==============================] - 2s 3ms/step - loss: 0.0967 - accuracy: 0.9696 - val_loss: 0.1083 - val_accuracy: 0.9712\n",
            "Epoch 42/100\n",
            "480/480 [==============================] - 2s 3ms/step - loss: 0.0992 - accuracy: 0.9682 - val_loss: 0.1064 - val_accuracy: 0.9721\n",
            "Epoch 43/100\n",
            "480/480 [==============================] - 2s 4ms/step - loss: 0.0926 - accuracy: 0.9712 - val_loss: 0.1089 - val_accuracy: 0.9716\n",
            "Epoch 44/100\n",
            "480/480 [==============================] - 2s 4ms/step - loss: 0.0933 - accuracy: 0.9701 - val_loss: 0.1088 - val_accuracy: 0.9727\n",
            "Epoch 45/100\n",
            "480/480 [==============================] - 2s 3ms/step - loss: 0.0901 - accuracy: 0.9714 - val_loss: 0.1093 - val_accuracy: 0.9721\n",
            "Epoch 46/100\n",
            "480/480 [==============================] - 2s 4ms/step - loss: 0.0893 - accuracy: 0.9715 - val_loss: 0.1187 - val_accuracy: 0.9686\n",
            "Epoch 47/100\n",
            "480/480 [==============================] - 2s 3ms/step - loss: 0.0884 - accuracy: 0.9714 - val_loss: 0.1147 - val_accuracy: 0.9703\n",
            "Epoch 48/100\n",
            "480/480 [==============================] - 2s 4ms/step - loss: 0.0902 - accuracy: 0.9708 - val_loss: 0.1136 - val_accuracy: 0.9701\n",
            "Epoch 49/100\n",
            "480/480 [==============================] - 2s 3ms/step - loss: 0.0881 - accuracy: 0.9719 - val_loss: 0.1162 - val_accuracy: 0.9703\n",
            "Epoch 50/100\n",
            "480/480 [==============================] - 2s 4ms/step - loss: 0.0892 - accuracy: 0.9712 - val_loss: 0.1079 - val_accuracy: 0.9732\n",
            "Epoch 51/100\n",
            "480/480 [==============================] - 2s 4ms/step - loss: 0.0872 - accuracy: 0.9717 - val_loss: 0.1145 - val_accuracy: 0.9703\n",
            "Epoch 52/100\n",
            "480/480 [==============================] - 2s 4ms/step - loss: 0.0873 - accuracy: 0.9724 - val_loss: 0.1156 - val_accuracy: 0.9707\n",
            "Epoch 53/100\n",
            "480/480 [==============================] - 2s 4ms/step - loss: 0.0868 - accuracy: 0.9718 - val_loss: 0.1112 - val_accuracy: 0.9695\n",
            "Epoch 54/100\n",
            "480/480 [==============================] - 2s 4ms/step - loss: 0.0879 - accuracy: 0.9725 - val_loss: 0.1093 - val_accuracy: 0.9722\n",
            "Epoch 55/100\n",
            "480/480 [==============================] - 2s 4ms/step - loss: 0.0844 - accuracy: 0.9732 - val_loss: 0.1145 - val_accuracy: 0.9715\n",
            "Epoch 56/100\n",
            "480/480 [==============================] - 2s 3ms/step - loss: 0.0866 - accuracy: 0.9715 - val_loss: 0.1133 - val_accuracy: 0.9710\n",
            "Epoch 57/100\n",
            "480/480 [==============================] - 2s 3ms/step - loss: 0.0839 - accuracy: 0.9727 - val_loss: 0.1125 - val_accuracy: 0.9719\n",
            "Epoch 58/100\n",
            "480/480 [==============================] - 2s 3ms/step - loss: 0.0825 - accuracy: 0.9738 - val_loss: 0.1143 - val_accuracy: 0.9723\n",
            "Epoch 59/100\n",
            "480/480 [==============================] - 2s 3ms/step - loss: 0.0844 - accuracy: 0.9727 - val_loss: 0.1127 - val_accuracy: 0.9728\n",
            "Epoch 60/100\n",
            "480/480 [==============================] - 2s 3ms/step - loss: 0.0861 - accuracy: 0.9716 - val_loss: 0.1075 - val_accuracy: 0.9721\n",
            "Epoch 61/100\n",
            "480/480 [==============================] - 2s 4ms/step - loss: 0.0816 - accuracy: 0.9733 - val_loss: 0.1149 - val_accuracy: 0.9706\n",
            "Epoch 62/100\n",
            "480/480 [==============================] - 2s 3ms/step - loss: 0.0804 - accuracy: 0.9739 - val_loss: 0.1136 - val_accuracy: 0.9715\n",
            "Epoch 63/100\n",
            "480/480 [==============================] - 2s 4ms/step - loss: 0.0794 - accuracy: 0.9750 - val_loss: 0.1174 - val_accuracy: 0.9707\n",
            "Epoch 64/100\n",
            "480/480 [==============================] - 2s 4ms/step - loss: 0.0831 - accuracy: 0.9731 - val_loss: 0.1165 - val_accuracy: 0.9709\n",
            "Epoch 65/100\n",
            "480/480 [==============================] - 2s 3ms/step - loss: 0.0788 - accuracy: 0.9741 - val_loss: 0.1255 - val_accuracy: 0.9708\n",
            "Epoch 66/100\n",
            "480/480 [==============================] - 2s 4ms/step - loss: 0.0817 - accuracy: 0.9734 - val_loss: 0.1226 - val_accuracy: 0.9707\n",
            "Epoch 67/100\n",
            "480/480 [==============================] - 2s 4ms/step - loss: 0.0810 - accuracy: 0.9738 - val_loss: 0.1175 - val_accuracy: 0.9716\n",
            "Epoch 68/100\n",
            "480/480 [==============================] - 2s 3ms/step - loss: 0.0789 - accuracy: 0.9750 - val_loss: 0.1188 - val_accuracy: 0.9712\n",
            "Epoch 69/100\n",
            "480/480 [==============================] - 2s 4ms/step - loss: 0.0795 - accuracy: 0.9743 - val_loss: 0.1226 - val_accuracy: 0.9711\n",
            "Epoch 70/100\n",
            "480/480 [==============================] - 2s 3ms/step - loss: 0.0814 - accuracy: 0.9740 - val_loss: 0.1219 - val_accuracy: 0.9712\n",
            "Epoch 71/100\n",
            "480/480 [==============================] - 2s 4ms/step - loss: 0.0799 - accuracy: 0.9744 - val_loss: 0.1203 - val_accuracy: 0.9722\n",
            "Epoch 72/100\n",
            "480/480 [==============================] - 2s 4ms/step - loss: 0.0789 - accuracy: 0.9749 - val_loss: 0.1185 - val_accuracy: 0.9723\n",
            "Epoch 73/100\n",
            "480/480 [==============================] - 2s 4ms/step - loss: 0.0750 - accuracy: 0.9759 - val_loss: 0.1223 - val_accuracy: 0.9718\n",
            "Epoch 74/100\n",
            "480/480 [==============================] - 2s 5ms/step - loss: 0.0794 - accuracy: 0.9741 - val_loss: 0.1206 - val_accuracy: 0.9715\n",
            "Epoch 75/100\n",
            "480/480 [==============================] - 2s 4ms/step - loss: 0.0749 - accuracy: 0.9754 - val_loss: 0.1226 - val_accuracy: 0.9716\n",
            "Epoch 76/100\n",
            "480/480 [==============================] - 2s 4ms/step - loss: 0.0784 - accuracy: 0.9751 - val_loss: 0.1206 - val_accuracy: 0.9710\n",
            "Epoch 77/100\n",
            "480/480 [==============================] - 2s 4ms/step - loss: 0.0749 - accuracy: 0.9758 - val_loss: 0.1239 - val_accuracy: 0.9724\n",
            "Epoch 78/100\n",
            "480/480 [==============================] - 2s 4ms/step - loss: 0.0764 - accuracy: 0.9750 - val_loss: 0.1228 - val_accuracy: 0.9720\n",
            "Epoch 79/100\n",
            "480/480 [==============================] - 2s 4ms/step - loss: 0.0757 - accuracy: 0.9754 - val_loss: 0.1249 - val_accuracy: 0.9716\n",
            "Epoch 80/100\n",
            "480/480 [==============================] - 2s 4ms/step - loss: 0.0754 - accuracy: 0.9754 - val_loss: 0.1209 - val_accuracy: 0.9720\n",
            "Epoch 81/100\n",
            "480/480 [==============================] - 2s 3ms/step - loss: 0.0748 - accuracy: 0.9755 - val_loss: 0.1267 - val_accuracy: 0.9712\n",
            "Epoch 82/100\n",
            "480/480 [==============================] - 2s 3ms/step - loss: 0.0759 - accuracy: 0.9751 - val_loss: 0.1207 - val_accuracy: 0.9712\n",
            "Epoch 83/100\n",
            "480/480 [==============================] - 2s 3ms/step - loss: 0.0749 - accuracy: 0.9759 - val_loss: 0.1263 - val_accuracy: 0.9700\n",
            "Epoch 84/100\n",
            "480/480 [==============================] - 2s 4ms/step - loss: 0.0741 - accuracy: 0.9761 - val_loss: 0.1229 - val_accuracy: 0.9724\n",
            "Epoch 85/100\n",
            "480/480 [==============================] - 2s 4ms/step - loss: 0.0732 - accuracy: 0.9764 - val_loss: 0.1326 - val_accuracy: 0.9712\n",
            "Epoch 86/100\n",
            "480/480 [==============================] - 2s 4ms/step - loss: 0.0777 - accuracy: 0.9756 - val_loss: 0.1265 - val_accuracy: 0.9724\n",
            "Epoch 87/100\n",
            "480/480 [==============================] - 2s 4ms/step - loss: 0.0739 - accuracy: 0.9761 - val_loss: 0.1248 - val_accuracy: 0.9710\n",
            "Epoch 88/100\n",
            "480/480 [==============================] - 2s 4ms/step - loss: 0.0744 - accuracy: 0.9764 - val_loss: 0.1305 - val_accuracy: 0.9703\n",
            "Epoch 89/100\n",
            "480/480 [==============================] - 2s 3ms/step - loss: 0.0734 - accuracy: 0.9766 - val_loss: 0.1239 - val_accuracy: 0.9727\n",
            "Epoch 90/100\n",
            "480/480 [==============================] - 2s 4ms/step - loss: 0.0762 - accuracy: 0.9755 - val_loss: 0.1262 - val_accuracy: 0.9723\n",
            "Epoch 91/100\n",
            "480/480 [==============================] - 2s 3ms/step - loss: 0.0707 - accuracy: 0.9768 - val_loss: 0.1307 - val_accuracy: 0.9730\n",
            "Epoch 92/100\n",
            "480/480 [==============================] - 2s 3ms/step - loss: 0.0715 - accuracy: 0.9766 - val_loss: 0.1318 - val_accuracy: 0.9715\n",
            "Epoch 93/100\n",
            "480/480 [==============================] - 2s 3ms/step - loss: 0.0701 - accuracy: 0.9771 - val_loss: 0.1286 - val_accuracy: 0.9703\n",
            "Epoch 94/100\n",
            "480/480 [==============================] - 2s 4ms/step - loss: 0.0721 - accuracy: 0.9773 - val_loss: 0.1297 - val_accuracy: 0.9722\n",
            "Epoch 95/100\n",
            "480/480 [==============================] - 2s 3ms/step - loss: 0.0708 - accuracy: 0.9778 - val_loss: 0.1271 - val_accuracy: 0.9723\n",
            "Epoch 96/100\n",
            "480/480 [==============================] - 2s 4ms/step - loss: 0.0726 - accuracy: 0.9779 - val_loss: 0.1310 - val_accuracy: 0.9727\n",
            "Epoch 97/100\n",
            "480/480 [==============================] - 2s 4ms/step - loss: 0.0704 - accuracy: 0.9769 - val_loss: 0.1314 - val_accuracy: 0.9725\n",
            "Epoch 98/100\n",
            "480/480 [==============================] - 2s 3ms/step - loss: 0.0717 - accuracy: 0.9771 - val_loss: 0.1291 - val_accuracy: 0.9719\n",
            "Epoch 99/100\n",
            "480/480 [==============================] - 2s 4ms/step - loss: 0.0725 - accuracy: 0.9763 - val_loss: 0.1262 - val_accuracy: 0.9719\n",
            "Epoch 100/100\n",
            "480/480 [==============================] - 2s 4ms/step - loss: 0.0717 - accuracy: 0.9767 - val_loss: 0.1247 - val_accuracy: 0.9729\n",
            "Train Accuracy:  0.9656437504291534 \n",
            "Train Loss:  0.10915561370551587\n",
            "Validation Accuracy:  0.9695899975299835 \n",
            "Validation Loss:  0.11873343780636787\n"
          ]
        }
      ],
      "source": [
        "#training the model\n",
        "\n",
        "import tensorflow as tf\n",
        "import numpy as np\n",
        "\n",
        "network.compile(optimizer='Adam', loss='categorical_crossentropy',metrics=['accuracy'])\n",
        "\n",
        "hist = network.fit(tf.convert_to_tensor(X_trn), train_labels, epochs=100, batch_size=100,validation_split=0.2)\n",
        "\n",
        "model_data = hist.history\n",
        "\n",
        "print('Train Accuracy: ', np.mean(model_data['accuracy']), '\\nTrain Loss: ', np.mean(model_data['loss']))\n",
        "print('Validation Accuracy: ', np.mean(model_data['val_accuracy']), '\\nValidation Loss: ', np.mean(model_data['val_loss']))"
      ]
    },
    {
      "cell_type": "code",
      "execution_count": 9,
      "metadata": {
        "colab": {
          "base_uri": "https://localhost:8080/"
        },
        "id": "ibf8XFhoPsgI",
        "outputId": "c1e96a3f-0d1a-4d91-b74c-c2094712d8b9"
      },
      "outputs": [
        {
          "output_type": "stream",
          "name": "stdout",
          "text": [
            "313/313 [==============================] - 1s 2ms/step - loss: 0.1196 - accuracy: 0.9720\n",
            "Test Accuracy:  0.972000002861023 \n",
            "Test Loss:  0.11964670568704605\n"
          ]
        }
      ],
      "source": [
        "#evaluating the model\n",
        "\n",
        "test_loss, test_acc = network.evaluate(tf.convert_to_tensor(X_tst), test_labels)\n",
        "print('Test Accuracy: ', test_acc, '\\nTest Loss: ', test_loss)"
      ]
    },
    {
      "cell_type": "code",
      "execution_count": 10,
      "metadata": {
        "colab": {
          "base_uri": "https://localhost:8080/",
          "height": 573
        },
        "id": "vpYzmBeQT9eS",
        "outputId": "290c37e5-64d6-4521-a2f5-36b782ca1f9d"
      },
      "outputs": [
        {
          "output_type": "display_data",
          "data": {
            "text/plain": [
              "<Figure size 432x288 with 1 Axes>"
            ],
            "image/png": "[encoded data removed]"
          },
          "metadata": {
            "needs_background": "light"
          }
        },
        {
          "output_type": "display_data",
          "data": {
            "text/plain": [
              "<Figure size 432x288 with 1 Axes>"
            ],
            "image/png": "[encoded data removed]"
          },
          "metadata": {
            "needs_background": "light"
          }
        }
      ],
      "source": [
        "#plotting history for accuracy & loss for training and validation data.\n",
        "\n",
        "import matplotlib.pyplot as plt\n",
        "\n",
        "# summarize history for accuracy\n",
        "plt.plot(hist.history['accuracy'])\n",
        "plt.plot(hist.history['val_accuracy'])\n",
        "plt.title('model accuracy')\n",
        "plt.ylabel('accuracy')\n",
        "plt.xlabel('epoch')\n",
        "plt.legend(['train', 'val'], loc='upper left')\n",
        "plt.show()\n",
        "# summarize history for loss\n",
        "plt.plot(hist.history['loss'])\n",
        "plt.plot(hist.history['val_loss'])\n",
        "plt.title('model loss')\n",
        "plt.ylabel('loss')\n",
        "plt.xlabel('epoch')\n",
        "plt.legend(['train', 'val'], loc='upper left')\n",
        "plt.show()"
      ]
    }
  ],
  "metadata": {
    "accelerator": "GPU",
    "colab": {
      "collapsed_sections": [],
      "provenance": []
    },
    "gpuClass": "standard",
    "kernelspec": {
      "display_name": "Python 3",
      "name": "python3"
    },
    "language_info": {
      "name": "python"
    }
  },
  "nbformat": 4,
  "nbformat_minor": 0
}